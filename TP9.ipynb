{
 "cells": [
  {
   "cell_type": "code",
   "execution_count": null,
   "id": "initial_id",
   "metadata": {
    "collapsed": true,
    "is_executing": true
   },
   "outputs": [],
   "source": [
    "import pandas as pd\n",
    "from sklearn.ensemble import RandomForestClassifier\n",
    "\n",
    "# Charger les données\n",
    "train_data = pd.read_csv(\"train.csv\")\n",
    "test_data = pd.read_csv(\"test.csv\")\n",
    "\n",
    "\n",
    "\n",
    "# Prétraiter les données (nettoyage, encodage, etc.)\n",
    "print(train_data.columns)\n",
    "\n",
    "# Séparation des fonctionnalités et de la cible\n",
    "X_train = train_data.drop(\"Exited\", axis=1)\n",
    "y_train = train_data[\"Exited\"]\n",
    "\n",
    "# Entraîner un modèle (par exemple, Random Forest)\n",
    "model = RandomForestClassifier(n_estimators=100, random_state=42)\n",
    "model.fit(X_train, y_train)\n",
    "\n",
    "# Faire des prédictions sur les données de test\n",
    "predictions = model.predict(test_data)\n",
    "\n",
    "# Préparer les prédictions pour la soumission\n",
    "submission = pd.DataFrame({'Id': test_data.Id, 'Exited': predictions})\n",
    "\n",
    "# Sauvegarder les prédictions dans un fichier CSV\n",
    "submission.to_csv('sample_submission.csv', index=False)"
   ]
  },
  {
   "cell_type": "code",
   "outputs": [],
   "source": [],
   "metadata": {
    "collapsed": false
   },
   "id": "7cf6e835e5083acd"
  }
 ],
 "metadata": {
  "kernelspec": {
   "display_name": "Python 3",
   "language": "python",
   "name": "python3"
  },
  "language_info": {
   "codemirror_mode": {
    "name": "ipython",
    "version": 2
   },
   "file_extension": ".py",
   "mimetype": "text/x-python",
   "name": "python",
   "nbconvert_exporter": "python",
   "pygments_lexer": "ipython2",
   "version": "2.7.6"
  }
 },
 "nbformat": 4,
 "nbformat_minor": 5
}
